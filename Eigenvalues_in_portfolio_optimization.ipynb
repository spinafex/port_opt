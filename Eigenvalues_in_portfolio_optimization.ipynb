{
  "nbformat": 4,
  "nbformat_minor": 0,
  "metadata": {
    "colab": {
      "provenance": [],
      "authorship_tag": "ABX9TyMMMa+DaAg+iLMQrJibMrsi",
      "include_colab_link": true
    },
    "kernelspec": {
      "name": "python3",
      "display_name": "Python 3"
    },
    "language_info": {
      "name": "python"
    }
  },
  "cells": [
    {
      "cell_type": "markdown",
      "metadata": {
        "id": "view-in-github",
        "colab_type": "text"
      },
      "source": [
        "<a href=\"https://colab.research.google.com/github/spinafex/port_opt/blob/master/Eigenvalues_in_portfolio_optimization.ipynb\" target=\"_parent\"><img src=\"https://colab.research.google.com/assets/colab-badge.svg\" alt=\"Open In Colab\"/></a>"
      ]
    },
    {
      "cell_type": "markdown",
      "source": [
        "#What Can We Learn From Eigenvalues Of Covariance Matrices?\n",
        "1) We want to find the eigenvalues of the covariance matrix\\\n",
        "2) We want to describe the behaviour of the ratio of the larger to the smaller eigenvalue as rho varies\\\n",
        "3) What insights can we get from this?"
      ],
      "metadata": {
        "id": "o9RvTwYOzAv9"
      }
    },
    {
      "cell_type": "markdown",
      "source": [
        "Consider a portfolio composed of two assets:\n",
        "\n",
        "$$\n",
        "X = [X_{1}, X_{2}]\\\n",
        "$$"
      ],
      "metadata": {
        "id": "JE8G3W7szAg-"
      }
    },
    {
      "cell_type": "markdown",
      "source": [
        "The covariance matrix for this portfolio would be:\n",
        "\n",
        "$$\n",
        "X^{T}X = \\begin{pmatrix}\n",
        "1.0 & \\rho \\\\\n",
        "\\rho & 1.0\n",
        "\\end{pmatrix}\n",
        "$$"
      ],
      "metadata": {
        "id": "7_3QiEuOzAsP"
      }
    },
    {
      "cell_type": "markdown",
      "source": [
        "To find the eigenvalues, we need to solve the characteristic equation:\n",
        "\n",
        "$$\n",
        "det(X^T X - λI) = 0\n",
        "$$\n",
        "\n",
        "where:\n",
        "\n",
        "\n",
        "* det - determinant\n",
        "* λ (lambda) - eigenvalue\n",
        "* I - identity matrix (2x2 in this case)\n",
        "\n",
        "\\\n",
        "\\\n",
        "Expanding the determinant:\n",
        "\n",
        "$$\n",
        "det(X^T X) = (1.0 - \\lambda)(1.0 - \\lambda) - \\rho^2\n",
        "$$\n",
        "\\\n",
        "or\n",
        "\\\n",
        "$$\n",
        "det(X^T X - \\lambda I) =\n",
        "\\begin{vmatrix}\n",
        "  1.0 - \\lambda & \\rho \\\\\n",
        "  \\rho & 1.0 - \\lambda\n",
        "\\end{vmatrix}\n",
        "$$\n",
        "\n",
        "Solving for λ:\n",
        "\n",
        "\\$$\n",
        "(1.0 - λ)(1.0 - λ) - ρ^2 = 0\n",
        "$$\n",
        "\n",
        "Expanding:\n",
        "\\$$\n",
        "1.0 - 2λ + λ^2 - ρ^2 = 0\n",
        "$$\n",
        "\\\n",
        "This is a quadratic equation in λ. We can solve it using the quadratic formula:\n",
        "\n",
        "\\$$\n",
        "λ = ( 2 ± sqrt( 4 - 4(1 - ρ^2) ) ) / 2\\\\\n",
        "$$\n",
        "\\\n",
        "$$\n",
        "λ = ( 2 ± 2√(ρ^2) ) / 2\\\\\n",
        "$$\n",
        "\\\n",
        "$$\n",
        "λ = 1 ± √(ρ^2)\n",
        "$$\n",
        "\\\n",
        "Therefore, the eigenvalues of the covariance matrix are:\n",
        "\n",
        "$$\n",
        "λ₁ = 1 + √(ρ^2)\\\\\n",
        "λ₂ = 1 - √(ρ^2)\n",
        "$$"
      ],
      "metadata": {
        "id": "uTG9_ykfzBAp"
      }
    },
    {
      "cell_type": "markdown",
      "source": [
        "# Behavior of the Eigenvalue Ratio with Varying ρ"
      ],
      "metadata": {
        "id": "IqCdvg43zBER"
      }
    },
    {
      "cell_type": "markdown",
      "source": [
        "The ratio of the larger eigenvalue (λ₁) to the smaller eigenvalue (λ₂) is:\n",
        "\n",
        "$$\n",
        "( 1 + √(ρ^2) ) / ( 1 - √(ρ^2) )\n",
        "$$\n",
        "\\\n",
        "As the value of ρ changes, this ratio will change:\n",
        "\n",
        "* ρ = 0: When ρ is zero, the eigenvalues become λ₁ = 1 and λ₂ = 1. The ratio becomes 1/1 = 1, indicating equal variance in both directions (X₁ and X₂).\n",
        "\n",
        "* 0 < ρ < 1: As ρ increases from zero towards 1, the square root term (√(ρ^2)) becomes larger.  This leads to a larger λ₁ and a smaller λ₂. The ratio becomes greater than 1, indicating a larger spread of data in one direction compared to the other.\n",
        "\n",
        "* ρ = 1: When ρ equals 1, the eigenvalues become λ₁ = 2 and λ₂ = 0. The ratio becomes infinite, indicating all the variance is concentrated in one direction (perfectly correlated data).\n",
        "\n",
        "* ρ > 1: This is not a typical case for a covariance matrix, as ρ represents the correlation coefficient and its absolute value cannot be greater than 1. However, for mathematical completeness, if ρ were greater than 1, the square root term would become imaginary, leading to complex eigenvalues."
      ],
      "metadata": {
        "id": "PBVk1weXzBHM"
      }
    },
    {
      "cell_type": "markdown",
      "source": [
        "# Insights from the Eigenvalue Ratio"
      ],
      "metadata": {
        "id": "L7o5AqOWzBNb"
      }
    },
    {
      "cell_type": "markdown",
      "source": [
        "The ratio of the eigenvalues provides insights into the spread of the data represented by the covariance matrix.\n",
        "\n",
        "A ratio close to 1 indicates that the data points are distributed with similar variance in both directions (X₁ and X₂).\n",
        "\n",
        "A ratio greater than 1 indicates a larger spread of data in one direction compared to the other. This suggests a stronger relationship between the variables in that direction.\n",
        "\n",
        "In the extreme case of a perfect correlation (ρ = 1), all the variance is concentrated in one direction, resulting in an infinite ratio.\n",
        "\n",
        "Therefore, analyzing the eigenvalue ratio can help us understand the directionality and strength of the relationships between the variables represented in the covariance matrix."
      ],
      "metadata": {
        "id": "Zo1tYGrCzBQF"
      }
    },
    {
      "cell_type": "code",
      "execution_count": 9,
      "metadata": {
        "colab": {
          "base_uri": "https://localhost:8080/"
        },
        "id": "9SGlz5Gty_1A",
        "outputId": "18647fc0-bfb3-4792-ff3b-f48f7f32c5e0"
      },
      "outputs": [
        {
          "output_type": "stream",
          "name": "stdout",
          "text": [
            "Determinant (lambda): 0.9375\n",
            "Larger Eigenvalue: -0.7500\n",
            "Smaller Eigenvalue: -1.2500\n",
            "Eigenvalue Ratio: 0.6000\n"
          ]
        }
      ],
      "source": [
        "import numpy as np\n",
        "\n",
        "def solve_eigenvalues(rho):\n",
        "  \"\"\"\n",
        "  Solves for the determinant (lambda) and eigenvalue ratio for a given rho.\n",
        "\n",
        "  Args:\n",
        "      rho: The correlation coefficient.\n",
        "\n",
        "  Returns:\n",
        "      A tuple containing the determinant (lambda), the larger eigenvalue,\n",
        "      the smaller eigenvalue, and the eigenvalue ratio.\n",
        "  \"\"\"\n",
        "\n",
        "  # Define the covariance matrix\n",
        "  covariance_matrix = np.array([[1.0, rho], [rho, 1.0]])\n",
        "\n",
        "  # Calculate the determinant\n",
        "  determinant = np.linalg.det(covariance_matrix)\n",
        "\n",
        "  # Solve for the eigenvalues\n",
        "  # Note that the coefficients a and b of any 2x2 correlation matrix will always be the same:\n",
        "  # 1.0−2λ+λ2−ρ2=0\n",
        "  # This is not true for larger square correlation matrices, however\n",
        "  a = 1.0\n",
        "  b = -2.0\n",
        "  c = determinant\n",
        "\n",
        "  discriminant = b**2 - 4*a*c\n",
        "  if discriminant < 0:\n",
        "    raise ValueError(\"Discriminant is negative, cannot solve for real eigenvalues\")\n",
        "\n",
        "  # Calculate the eigenvalues\n",
        "  lambda1 = (b + np.sqrt(discriminant)) / (2*a)\n",
        "  lambda2 = (b - np.sqrt(discriminant)) / (2*a)\n",
        "\n",
        "  # Sort eigenvalues to ensure lambda1 is larger\n",
        "  lambda1, lambda2 = sorted([lambda1, lambda2], reverse=True)\n",
        "\n",
        "  # Calculate the eigenvalue ratio\n",
        "  eigenvalue_ratio = lambda1 / lambda2\n",
        "\n",
        "  return determinant, lambda1, lambda2, eigenvalue_ratio\n",
        "\n",
        "# Set the value of rho (correlation coefficient)\n",
        "rho = .25  # You can change this value\n",
        "\n",
        "# Solve for determinant, eigenvalues and eigenvalue ratio\n",
        "determinant, lambda1, lambda2, eigenvalue_ratio = solve_eigenvalues(rho)\n",
        "\n",
        "# Print the results\n",
        "print(f\"Determinant (lambda): {determinant:.4f}\")\n",
        "print(f\"Larger Eigenvalue: {lambda1:.4f}\")\n",
        "print(f\"Smaller Eigenvalue: {lambda2:.4f}\")\n",
        "print(f\"Eigenvalue Ratio: {eigenvalue_ratio:.4f}\")\n"
      ]
    }
  ]
}